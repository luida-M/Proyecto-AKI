{
  "nbformat": 4,
  "nbformat_minor": 0,
  "metadata": {
    "colab": {
      "provenance": [],
      "mount_file_id": "1c8gI--KfKRDfM5ofGJYcWhj5EuGXTZTc",
      "authorship_tag": "ABX9TyP1f6ClThqyFTV1Gh+OEUND",
      "include_colab_link": true
    },
    "kernelspec": {
      "name": "python3",
      "display_name": "Python 3"
    },
    "language_info": {
      "name": "python"
    }
  },
  "cells": [
    {
      "cell_type": "markdown",
      "metadata": {
        "id": "view-in-github",
        "colab_type": "text"
      },
      "source": [
        "<a href=\"https://colab.research.google.com/github/luida-M/Proyecto-AKI/blob/main/Reg_Alm_BD_vacio.ipynb\" target=\"_parent\"><img src=\"https://colab.research.google.com/assets/colab-badge.svg\" alt=\"Open In Colab\"/></a>"
      ]
    },
    {
      "cell_type": "markdown",
      "source": [
        "**# Diccionario para almacenar la información de los usuarios**"
      ],
      "metadata": {
        "id": "RSjXnl7qJji3"
      }
    },
    {
      "cell_type": "code",
      "source": [
        "#Permite acceder a tu Google Drive desde Google Colab\n",
        "from google.colab import drive\n",
        "import os\n",
        "# Montar Google Drive\n",
        "drive.mount('/content/drive')\n"
      ],
      "metadata": {
        "id": "RYnMeONFrRQn"
      },
      "execution_count": null,
      "outputs": []
    },
    {
      "cell_type": "markdown",
      "source": [
        "**# Diccionario para almacenar la información de los usuarios**"
      ],
      "metadata": {
        "id": "1yp637537S0t"
      }
    },
    {
      "cell_type": "code",
      "source": [
        "# Inicialización del diccionario: Creo el diccionario vacío\n",
        "usuarios = {}\n",
        "\n",
        "# Función para registrar usuarios y guardar la información en un archivo de texto\n",
        "def registrar_usuarios():\n",
        "    while True:\n",
        "        nombre_usuario = input(\"Ingrese el nombre de usuario (o 'salir' para terminar): \")\n",
        "        if nombre_usuario.lower() == 'salir':\n",
        "            break\n",
        "        if nombre_usuario in usuarios:\n",
        "            print(\"El usuario ya existe. Intente con otro nombre.\")\n",
        "        else:\n",
        "            contrasena = input(\"Ingrese la contraseña: \")\n",
        "            usuarios[nombre_usuario] = contrasena\n",
        "            print(f\"Usuario {nombre_usuario} registrado exitosamente.\\n\")\n",
        "            guardar_usuarios_en_archivo()\n",
        "\n",
        "# Función para guardar la información de los usuarios en un archivo de texto\n",
        "def guardar_usuarios_en_archivo():\n",
        "    with open(\"/content/drive/MyDrive/Primera_pre-entrega_Medina_Tenorio/usuarios.txt\", \"w\") as file:\n",
        "        for usuario, contrasena in usuarios.items():\n",
        "            file.write(f\"{usuario},{contrasena}\\n\")\n",
        "\n",
        "# Función para mostrar la información de los usuarios\n",
        "def mostrar_usuarios():\n",
        "    if not usuarios:\n",
        "        print(\"No hay usuarios registrados.\\n\")\n",
        "    else:\n",
        "        print(\"Usuarios registrados:\")\n",
        "        for usuario, contrasena in usuarios.items():\n",
        "            print(f\"Usuario: {usuario}, Contraseña: {contrasena}\")\n",
        "        print(\"\\n\")\n",
        "\n",
        "# Función para el login de usuarios\n",
        "def login_usuario():\n",
        "    nombre_usuario = input(\"Ingrese el nombre de usuario: \")\n",
        "    contrasena = input(\"Ingrese la contraseña: \")\n",
        "    if nombre_usuario in usuarios and usuarios[nombre_usuario] == contrasena:\n",
        "        print(\"Login exitoso.\\n\")\n",
        "    else:\n",
        "        print(\"Usuario o contraseña incorrectos.\\n\")"
      ],
      "metadata": {
        "id": "Tg716CEk8iW0"
      },
      "execution_count": null,
      "outputs": []
    },
    {
      "cell_type": "code",
      "source": [
        "# Registro de usuarios\n",
        "print(\"Registro de usuarios:\")\n",
        "registrar_usuarios()\n",
        "\n",
        "# Mostrar usuarios registrados\n",
        "print(\"Mostrar usuarios registrados:\")\n",
        "mostrar_usuarios()\n",
        "\n",
        "# Intento de login de usuarios\n",
        "print(\"Intento de login:\")\n",
        "login_usuario()\n",
        "login_usuario()\n"
      ],
      "metadata": {
        "colab": {
          "base_uri": "https://localhost:8080/"
        },
        "id": "RIBHe9Lq4px_",
        "outputId": "b7e771e9-22a8-4592-f995-abce486eac0c"
      },
      "execution_count": null,
      "outputs": [
        {
          "output_type": "stream",
          "name": "stdout",
          "text": [
            "Registro de usuarios:\n",
            "Ingrese el nombre de usuario (o 'salir' para terminar): PAblo\n",
            "Ingrese la contraseña: 456\n",
            "Usuario registrado exitosamente.\n",
            "\n"
          ]
        }
      ]
    }
  ]
}