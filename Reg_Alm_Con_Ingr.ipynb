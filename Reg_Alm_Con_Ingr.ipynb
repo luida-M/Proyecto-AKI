{
  "nbformat": 4,
  "nbformat_minor": 0,
  "metadata": {
    "colab": {
      "provenance": [],
      "authorship_tag": "ABX9TyPkA7wzFDLn5t6OWodGahCP",
      "include_colab_link": true
    },
    "kernelspec": {
      "name": "python3",
      "display_name": "Python 3"
    },
    "language_info": {
      "name": "python"
    }
  },
  "cells": [
    {
      "cell_type": "markdown",
      "metadata": {
        "id": "view-in-github",
        "colab_type": "text"
      },
      "source": [
        "<a href=\"https://colab.research.google.com/github/luida-M/Proyecto-AKI/blob/main/Reg_Alm_Con_Ingr.ipynb\" target=\"_parent\"><img src=\"https://colab.research.google.com/assets/colab-badge.svg\" alt=\"Open In Colab\"/></a>"
      ]
    },
    {
      "cell_type": "markdown",
      "source": [
        "**# Diccionario para almacenar la información de los usuarios**"
      ],
      "metadata": {
        "id": "EmBQgBOBaPUM"
      }
    },
    {
      "cell_type": "code",
      "source": [
        "# Importar el módulo drive: Permite montar Google Drive en el entorno de Colab.\n",
        "from google.colab import drive\n",
        "\n",
        "# Montar Google Drive\n",
        "drive.mount('/content/drive')\n"
      ],
      "metadata": {
        "id": "FuOVz4t4aWEB",
        "colab": {
          "base_uri": "https://localhost:8080/"
        },
        "outputId": "f8e74c9b-f694-4cb0-e51d-17910ec092b0"
      },
      "execution_count": 9,
      "outputs": [
        {
          "output_type": "stream",
          "name": "stdout",
          "text": [
            "Mounted at /content/drive\n"
          ]
        }
      ]
    },
    {
      "cell_type": "markdown",
      "source": [
        "**# Diccionario para almacenar la información de los usuarios**"
      ],
      "metadata": {
        "id": "-0yDVlWfcvGv"
      }
    },
    {
      "cell_type": "code",
      "source": [
        "#Crea el diccionario vacio\n",
        "base_datos = {}\n",
        "\n",
        "# Función para registrar usuarios y guardar la información en un archivo de texto\n",
        "def registrar_usuario(base_datos):\n",
        "    nombre_usuario = input(\"Ingrese el nombre de usuario: \")\n",
        "    if nombre_usuario in base_datos:\n",
        "        print(\"El usuario ya existe. Intente con otro nombre.\")\n",
        "    else:\n",
        "        contrasena = input(\"Ingrese la contraseña: \")\n",
        "        base_datos[nombre_usuario] = contrasena\n",
        "        print(\"Usuario registrado exitosamente.\\n\")\n",
        "        guardar_usuarios_en_archivo(base_datos)"
      ],
      "metadata": {
        "id": "zTy8S1UYdHwZ"
      },
      "execution_count": 10,
      "outputs": []
    },
    {
      "cell_type": "code",
      "source": [
        "# Función para guardar la información de los usuarios en un archivo de texto\n",
        "def guardar_usuarios_en_archivo(base_datos):\n",
        "    with open(\"/content/drive/MyDrive/Primera pre-entrega+Medina Tenorio/usuarios.txt\", \"w\") as file:\n",
        "        for usuario, contrasena in base_datos.items():\n",
        "            file.write(f\"{usuario},{contrasena}\\n\")\n",
        "\n",
        "# Función para mostrar la información de los usuarios\n",
        "def mostrar_usuarios(base_datos):\n",
        "    if not base_datos:\n",
        "        print(\"No hay usuarios registrados.\\n\")\n",
        "    else:\n",
        "        print(\"Usuarios registrados:\")\n",
        "        for usuario, contrasena in base_datos.items():\n",
        "            print(f\"Usuario: {usuario}, Contraseña: {contrasena}\")\n",
        "        print(\"\\n\")\n",
        "\n",
        "# Función para el login de usuarios\n",
        "def login_usuario(base_datos):\n",
        "    nombre_usuario = input(\"Ingrese el nombre de usuario: \")\n",
        "    contrasena = input(\"Ingrese la contraseña: \")\n",
        "    if nombre_usuario in base_datos and base_datos[nombre_usuario] == contrasena:\n",
        "        print(\"Login exitoso.\\n\")\n",
        "    else:\n",
        "        print(\"Usuario o contraseña incorrectos.\\n\")\n"
      ],
      "metadata": {
        "id": "ZmPRxos0dP4n"
      },
      "execution_count": 11,
      "outputs": []
    },
    {
      "cell_type": "markdown",
      "source": [
        "**# Función principal**"
      ],
      "metadata": {
        "id": "6WK6qrN3dpJh"
      }
    },
    {
      "cell_type": "code",
      "source": [
        "def main():\n",
        "    while True:\n",
        "        print(\"Opciones:\")\n",
        "        print(\"1. Registrar usuario\")\n",
        "        print(\"2. Mostrar usuarios\")\n",
        "        print(\"3. Login de usuario\")\n",
        "        print(\"4. Salir\")\n",
        "        opcion = input(\"Seleccione una opción: \")\n",
        "\n",
        "        if opcion == '1':\n",
        "            registrar_usuario(base_datos)\n",
        "        elif opcion == '2':\n",
        "            mostrar_usuarios(base_datos)\n",
        "        elif opcion == '3':\n",
        "            login_usuario(base_datos)\n",
        "        elif opcion == '4':\n",
        "            print(\"Saliendo del programa...\")\n",
        "            break\n",
        "        else:\n",
        "            print(\"Opción no válida, intente nuevamente.\\n\")\n",
        "\n",
        "#Ejecutar el programa\n",
        "#imprime un menú de opciones y llama a las funciones correspondientes en función de la opción ingresada por el usuario.\n",
        "if __name__ == \"__main__\":\n",
        "\n",
        "#Intenta ejecutar la función main(), cuando  hay error\n",
        "       try:\n",
        "               main()\n",
        "# Permite que termine abruptamente, imprime un mensaje amigable\n",
        "       except KeyboardInterrupt:\n",
        "               print(\"Programa interrumpido por el usuario.\")\n",
        "\n"
      ],
      "metadata": {
        "id": "3ylYvATRdWTe",
        "outputId": "c163062f-5a4e-462e-9032-1f401a456ff7",
        "colab": {
          "base_uri": "https://localhost:8080/"
        }
      },
      "execution_count": 19,
      "outputs": [
        {
          "output_type": "stream",
          "name": "stdout",
          "text": [
            "Opciones:\n",
            "1. Registrar usuario\n",
            "2. Mostrar usuarios\n",
            "3. Login de usuario\n",
            "4. Salir\n",
            "Programa interrumpido por el usuario.\n"
          ]
        }
      ]
    }
  ]
}