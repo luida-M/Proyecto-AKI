{
  "nbformat": 4,
  "nbformat_minor": 0,
  "metadata": {
    "colab": {
      "provenance": [],
      "collapsed_sections": [
        "atXtz-NadrpJ"
      ],
      "mount_file_id": "1c8gI--KfKRDfM5ofGJYcWhj5EuGXTZTc",
      "authorship_tag": "ABX9TyO7U+bNVCYz6NpTLEDArgJn",
      "include_colab_link": true
    },
    "kernelspec": {
      "name": "python3",
      "display_name": "Python 3"
    },
    "language_info": {
      "name": "python"
    }
  },
  "cells": [
    {
      "cell_type": "markdown",
      "metadata": {
        "id": "view-in-github",
        "colab_type": "text"
      },
      "source": [
        "<a href=\"https://colab.research.google.com/github/luida-M/Proyecto-AKI/blob/main/Untitled1.ipynb\" target=\"_parent\"><img src=\"https://colab.research.google.com/assets/colab-badge.svg\" alt=\"Open In Colab\"/></a>"
      ]
    },
    {
      "cell_type": "markdown",
      "source": [
        "**# Diccionario para almacenar la información de los usuarios**"
      ],
      "metadata": {
        "id": "RSjXnl7qJji3"
      }
    },
    {
      "cell_type": "code",
      "source": [
        "usuarios = {}"
      ],
      "metadata": {
        "id": "3Z3ht_Fkd50h"
      },
      "execution_count": 50,
      "outputs": []
    },
    {
      "cell_type": "markdown",
      "source": [
        "**# Función para registrar usuarios y guardar la información en un archivo de texto**"
      ],
      "metadata": {
        "id": "o6aCWZIHeCmE"
      }
    },
    {
      "cell_type": "code",
      "source": [
        "def registrar_usuario(usuario, contraseña):\n",
        "    if usuario in usuarios:\n",
        "        print(\"El usuario ya existe.\")\n",
        "    else:\n",
        "        usuarios[usuario] = contraseña\n",
        "        print(\"Usuario registrado con éxito.\")\n",
        "        guardar_usuarios_en_archivo()\n"
      ],
      "metadata": {
        "id": "p1XgEKjDeI7v"
      },
      "execution_count": 62,
      "outputs": []
    },
    {
      "cell_type": "markdown",
      "source": [
        "**# Función para guardar la información de los usuarios en un archivo de texto**"
      ],
      "metadata": {
        "id": "nFKax7Vs63Yk"
      }
    },
    {
      "cell_type": "code",
      "source": [
        "def guardar_usuarios_en_archivo():\n",
        "    with open(\"/content/drive/Primera pre-entrega+Medina Tenorio/usuarios.txt\", \"w\") as file:\n",
        "        for usuario, contraseña in usuarios.items():\n",
        "            file.write(f\"{usuario},{contraseña}\\n\")\n",
        "\n"
      ],
      "metadata": {
        "id": "GqO7LbPv64cH"
      },
      "execution_count": 59,
      "outputs": []
    },
    {
      "cell_type": "markdown",
      "source": [
        "**# Función para mostrar la información de los usuarios**"
      ],
      "metadata": {
        "id": "01a7GdRP692H"
      }
    },
    {
      "cell_type": "code",
      "source": [
        "def mostrar_usuarios():\n",
        "    if not usuarios:\n",
        "        print(\"No hay usuarios registrados.\")\n",
        "    else:\n",
        "        for usuario, contraseña in usuarios.items():\n",
        "            print(f\"Usuario: {usuario}, Contraseña: {contraseña}\")\n"
      ],
      "metadata": {
        "collapsed": true,
        "id": "2C9Jeen57BZ5"
      },
      "execution_count": 60,
      "outputs": []
    },
    {
      "cell_type": "markdown",
      "source": [
        "**# Función para el login de usuarios**"
      ],
      "metadata": {
        "id": "r7RDiqQpOPsQ"
      }
    },
    {
      "cell_type": "code",
      "source": [
        "def login(usuario, contraseña):\n",
        "    if usuario in usuarios and usuarios[usuario] == contraseña:\n",
        "        print(\"Login exitoso.\")\n",
        "    else:\n",
        "        print(\"Usuario o contraseña incorrecta.\")"
      ],
      "metadata": {
        "id": "jVo-jycwOQzc"
      },
      "execution_count": 54,
      "outputs": []
    },
    {
      "cell_type": "markdown",
      "source": [
        "# FEjemplo de uso\n",
        "\n"
      ],
      "metadata": {
        "id": "7Kriue6O7FwH"
      }
    },
    {
      "cell_type": "code",
      "source": [
        "registrar_usuario(\"usuario1\", \"contraseña1\")\n",
        "registrar_usuario(\"usuario2\", \"contraseña2\")\n",
        "\n",
        "mostrar_usuarios()\n",
        "\n",
        "login(\"usuario1\", \"contraseña1\")\n",
        "login(\"usuario3\", \"contraseña3\")\n"
      ],
      "metadata": {
        "colab": {
          "base_uri": "https://localhost:8080/"
        },
        "id": "RvMLPg6Z7JaP",
        "outputId": "93d87b11-7951-44b6-ebf2-ca709af74266"
      },
      "execution_count": 61,
      "outputs": [
        {
          "output_type": "stream",
          "name": "stdout",
          "text": [
            "El usuario ya existe.\n",
            "El usuario ya existe.\n",
            "Usuario: usuario1, Contraseña: contraseña1\n",
            "Usuario: usuario2, Contraseña: contraseña2\n",
            "Login exitoso.\n",
            "Usuario o contraseña incorrecta.\n"
          ]
        }
      ]
    }
  ]
}